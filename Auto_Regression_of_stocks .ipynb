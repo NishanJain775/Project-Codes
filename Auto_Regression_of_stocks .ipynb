{
 "cells": [
  {
   "cell_type": "code",
   "execution_count": 1,
   "metadata": {},
   "outputs": [
    {
     "name": "stdout",
     "output_type": "stream",
     "text": [
      "Requirement already satisfied: statsmodels in c:\\dell\\anaconda\\lib\\site-packages (0.12.2)\n",
      "Requirement already satisfied: numpy>=1.15 in c:\\dell\\anaconda\\lib\\site-packages (from statsmodels) (1.19.5)\n",
      "Requirement already satisfied: scipy>=1.1 in c:\\dell\\anaconda\\lib\\site-packages (from statsmodels) (1.6.2)\n",
      "Requirement already satisfied: pandas>=0.21 in c:\\dell\\anaconda\\lib\\site-packages (from statsmodels) (1.2.4)\n",
      "Requirement already satisfied: patsy>=0.5 in c:\\dell\\anaconda\\lib\\site-packages (from statsmodels) (0.5.1)\n",
      "Requirement already satisfied: pytz>=2017.3 in c:\\dell\\anaconda\\lib\\site-packages (from pandas>=0.21->statsmodels) (2021.1)\n",
      "Requirement already satisfied: python-dateutil>=2.7.3 in c:\\users\\dell\\appdata\\roaming\\python\\python38\\site-packages (from pandas>=0.21->statsmodels) (2.8.1)\n",
      "Requirement already satisfied: six in c:\\users\\dell\\appdata\\roaming\\python\\python38\\site-packages (from patsy>=0.5->statsmodels) (1.14.0)\n"
     ]
    }
   ],
   "source": [
    "!pip install statsmodels --upgrade"
   ]
  },
  {
   "cell_type": "markdown",
   "metadata": {},
   "source": [
    "Inserting directories"
   ]
  },
  {
   "cell_type": "code",
   "execution_count": 2,
   "metadata": {},
   "outputs": [],
   "source": [
    "import pandas as pd\n",
    "import numpy as np\n",
    "from matplotlib import pyplot\n",
    "from statsmodels.tsa.ar_model import AutoReg"
   ]
  },
  {
   "cell_type": "markdown",
   "metadata": {},
   "source": [
    "Importing data"
   ]
  },
  {
   "cell_type": "code",
   "execution_count": 4,
   "metadata": {},
   "outputs": [
    {
     "name": "stdout",
     "output_type": "stream",
     "text": [
      "shape of data \t (251, 1)\n",
      "original dataset:\n",
      "              Open\n",
      "Date             \n",
      "2020-08-06  11.55\n",
      "2020-09-06  12.35\n",
      "2020-10-06   9.70\n",
      "2020-11-06  11.10\n",
      "2020-12-06   8.50\n",
      "after extracting only stocks openings:\n",
      " [[11.55]\n",
      " [12.35]\n",
      " [ 9.7 ]\n",
      " [11.1 ]\n",
      " [ 8.5 ]\n",
      " [10.8 ]\n",
      " [10.3 ]\n",
      " [ 9.35]\n",
      " [ 9.85]\n",
      " [ 9.75]\n",
      " [ 9.2 ]\n",
      " [10.1 ]\n",
      " [10.35]\n",
      " [ 9.4 ]\n",
      " [ 9.8 ]\n",
      " [10.6 ]\n",
      " [11.45]\n",
      " [10.4 ]\n",
      " [10.2 ]\n",
      " [10.1 ]\n",
      " [10.1 ]\n",
      " [ 9.8 ]\n",
      " [ 9.6 ]\n",
      " [ 9.25]\n",
      " [ 9.2 ]\n",
      " [10.  ]\n",
      " [ 9.65]\n",
      " [ 9.2 ]\n",
      " [ 8.65]\n",
      " [ 7.6 ]\n",
      " [ 9.4 ]\n",
      " [ 8.95]\n",
      " [ 8.45]\n",
      " [ 8.9 ]\n",
      " [ 8.4 ]\n",
      " [ 8.2 ]\n",
      " [ 8.05]\n",
      " [ 8.  ]\n",
      " [ 8.25]\n",
      " [ 8.1 ]\n",
      " [ 8.4 ]\n",
      " [ 8.7 ]\n",
      " [ 8.6 ]\n",
      " [ 8.3 ]\n",
      " [ 7.9 ]\n",
      " [ 9.  ]\n",
      " [ 8.9 ]\n",
      " [ 8.6 ]\n",
      " [ 8.95]\n",
      " [ 9.  ]\n",
      " [ 9.05]\n",
      " [ 8.95]\n",
      " [ 8.75]\n",
      " [ 8.6 ]\n",
      " [ 8.6 ]\n",
      " [ 8.65]\n",
      " [ 9.15]\n",
      " [ 9.  ]\n",
      " [ 8.9 ]\n",
      " [ 8.95]\n",
      " [10.5 ]\n",
      " [10.8 ]\n",
      " [ 9.3 ]\n",
      " [10.5 ]\n",
      " [11.3 ]\n",
      " [13.25]\n",
      " [12.5 ]\n",
      " [10.95]\n",
      " [11.3 ]\n",
      " [11.4 ]\n",
      " [11.35]\n",
      " [11.85]\n",
      " [11.8 ]\n",
      " [11.4 ]\n",
      " [11.2 ]\n",
      " [11.25]\n",
      " [10.35]\n",
      " [10.  ]\n",
      " [ 8.95]\n",
      " [ 9.35]\n",
      " [10.75]\n",
      " [10.1 ]\n",
      " [ 9.8 ]\n",
      " [ 9.3 ]\n",
      " [ 9.25]\n",
      " [ 9.1 ]\n",
      " [ 8.8 ]\n",
      " [ 8.55]\n",
      " [ 9.05]\n",
      " [ 9.  ]\n",
      " [ 8.55]\n",
      " [ 8.6 ]\n",
      " [ 8.25]\n",
      " [ 8.  ]\n",
      " [ 8.1 ]\n",
      " [ 7.9 ]\n",
      " [ 8.75]\n",
      " [ 8.5 ]\n",
      " [ 9.1 ]\n",
      " [ 9.05]\n",
      " [ 8.8 ]\n",
      " [ 8.7 ]\n",
      " [ 8.6 ]\n",
      " [ 8.1 ]\n",
      " [ 8.8 ]\n",
      " [ 8.7 ]\n",
      " [ 8.5 ]\n",
      " [ 8.5 ]\n",
      " [ 8.45]\n",
      " [ 8.75]\n",
      " [ 8.65]\n",
      " [ 8.5 ]\n",
      " [ 8.45]\n",
      " [ 8.5 ]\n",
      " [ 8.5 ]\n",
      " [ 9.1 ]\n",
      " [ 9.2 ]\n",
      " [ 9.15]\n",
      " [ 9.55]\n",
      " [10.3 ]\n",
      " [10.5 ]\n",
      " [10.3 ]\n",
      " [ 9.7 ]\n",
      " [10.  ]\n",
      " [ 9.8 ]\n",
      " [ 9.95]\n",
      " [10.  ]\n",
      " [ 9.9 ]\n",
      " [ 9.8 ]\n",
      " [ 9.6 ]\n",
      " [ 9.6 ]\n",
      " [ 9.9 ]\n",
      " [ 9.85]\n",
      " [10.25]\n",
      " [10.05]\n",
      " [ 9.95]\n",
      " [ 9.95]\n",
      " [ 9.9 ]\n",
      " [ 9.95]\n",
      " [ 9.2 ]\n",
      " [ 9.5 ]\n",
      " [10.6 ]\n",
      " [10.15]\n",
      " [10.4 ]\n",
      " [10.35]\n",
      " [10.2 ]\n",
      " [10.75]\n",
      " [11.8 ]\n",
      " [11.8 ]\n",
      " [12.  ]\n",
      " [11.95]\n",
      " [12.1 ]\n",
      " [11.95]\n",
      " [11.45]\n",
      " [12.25]\n",
      " [12.35]\n",
      " [12.35]\n",
      " [13.65]\n",
      " [13.15]\n",
      " [13.3 ]\n",
      " [13.35]\n",
      " [12.95]\n",
      " [12.8 ]\n",
      " [11.7 ]\n",
      " [11.5 ]\n",
      " [11.8 ]\n",
      " [11.1 ]\n",
      " [11.85]\n",
      " [11.9 ]\n",
      " [12.3 ]\n",
      " [12.2 ]\n",
      " [12.1 ]\n",
      " [11.6 ]\n",
      " [11.95]\n",
      " [11.9 ]\n",
      " [12.85]\n",
      " [12.15]\n",
      " [12.2 ]\n",
      " [11.75]\n",
      " [11.95]\n",
      " [11.5 ]\n",
      " [10.9 ]\n",
      " [10.8 ]\n",
      " [11.15]\n",
      " [11.5 ]\n",
      " [11.5 ]\n",
      " [11.4 ]\n",
      " [11.1 ]\n",
      " [11.45]\n",
      " [11.  ]\n",
      " [10.9 ]\n",
      " [10.7 ]\n",
      " [10.55]\n",
      " [10.2 ]\n",
      " [10.45]\n",
      " [10.2 ]\n",
      " [10.1 ]\n",
      " [10.2 ]\n",
      " [10.1 ]\n",
      " [ 9.9 ]\n",
      " [ 9.7 ]\n",
      " [10.05]\n",
      " [10.05]\n",
      " [ 9.75]\n",
      " [ 9.1 ]\n",
      " [ 9.3 ]\n",
      " [ 9.25]\n",
      " [ 9.3 ]\n",
      " [ 9.95]\n",
      " [ 9.5 ]\n",
      " [ 9.9 ]\n",
      " [ 9.85]\n",
      " [ 9.45]\n",
      " [ 9.3 ]\n",
      " [ 8.85]\n",
      " [ 8.9 ]\n",
      " [ 8.9 ]\n",
      " [ 8.6 ]\n",
      " [ 8.5 ]\n",
      " [ 8.45]\n",
      " [ 8.4 ]\n",
      " [ 8.55]\n",
      " [ 8.45]\n",
      " [ 8.75]\n",
      " [ 8.7 ]\n",
      " [ 8.35]\n",
      " [ 8.3 ]\n",
      " [ 8.45]\n",
      " [ 8.3 ]\n",
      " [ 8.4 ]\n",
      " [ 8.35]\n",
      " [ 8.3 ]\n",
      " [ 8.15]\n",
      " [ 8.15]\n",
      " [ 9.  ]\n",
      " [ 8.7 ]\n",
      " [ 8.6 ]\n",
      " [ 8.5 ]\n",
      " [ 8.45]\n",
      " [ 8.45]\n",
      " [ 8.55]\n",
      " [ 8.65]\n",
      " [ 8.65]\n",
      " [ 8.55]\n",
      " [ 8.55]\n",
      " [ 8.75]\n",
      " [ 8.7 ]\n",
      " [ 8.55]\n",
      " [ 8.85]\n",
      " [ 9.4 ]\n",
      " [10.  ]]\n"
     ]
    }
   ],
   "source": [
    "df=pd.read_csv('IDEA.csv',index_col=0,usecols=[0,1],parse_dates=True)\n",
    "X=df.values\n",
    "print('shape of data \\t',df.shape)\n",
    "print('original dataset:\\n',df.head());\n",
    "print('after extracting only stocks openings:\\n',X)"
   ]
  },
  {
   "cell_type": "code",
   "execution_count": 25,
   "metadata": {},
   "outputs": [
    {
     "data": {
      "text/plain": [
       "<AxesSubplot:xlabel='Date'>"
      ]
     },
     "execution_count": 25,
     "metadata": {},
     "output_type": "execute_result"
    },
    {
     "data": {
      "image/png": "[encoded data removed]",
      "text/plain": [
       "<Figure size 432x288 with 1 Axes>"
      ]
     },
     "metadata": {
      "needs_background": "light"
     },
     "output_type": "display_data"
    }
   ],
   "source": [
    "df.plot()"
   ]
  },
  {
   "cell_type": "markdown",
   "metadata": {},
   "source": [
    "Checking for Stationarity"
   ]
  },
  {
   "cell_type": "code",
   "execution_count": 6,
   "metadata": {
    "scrolled": true
   },
   "outputs": [
    {
     "name": "stdout",
     "output_type": "stream",
     "text": [
      "1. ADF :  -2.6209159975047958\n",
      "2. P-value :  0.08875094827616387\n",
      "3. Num. of lags :  16\n",
      "4. Num. of observation used for ADF regression and critical values calculation : 234\n",
      "5. critical values: \n",
      "\t 1% :  -3.4586084859607156\n",
      "\t 5% :  -2.873972159235721\n",
      "\t 10% :  -2.57339565928848\n"
     ]
    }
   ],
   "source": [
    "from statsmodels.tsa.stattools import adfuller\n",
    "\n",
    "dftest = adfuller(df['Open'],autolag = 'AIC')\n",
    "\n",
    "print(\"1. ADF : \",dftest[0]);\n",
    "print(\"2. P-value : \",dftest[1]);\n",
    "print(\"3. Num. of lags : \",dftest[2]);\n",
    "print(\"4. Num. of observation used for ADF regression and critical values calculation :\",dftest[3])\n",
    "print(\"5. critical values: \")\n",
    "for key,val in dftest[4].items():\n",
    "    print(\"\\t\",key, \": \",val)"
   ]
  },
  {
   "cell_type": "code",
   "execution_count": 27,
   "metadata": {},
   "outputs": [
    {
     "data": {
      "image/png": "[encoded data removed]",
      "text/plain": [
       "<Figure size 432x288 with 1 Axes>"
      ]
     },
     "metadata": {
      "needs_background": "light"
     },
     "output_type": "display_data"
    },
    {
     "data": {
      "image/png": "[encoded data removed]",
      "text/plain": [
       "<Figure size 432x288 with 1 Axes>"
      ]
     },
     "metadata": {
      "needs_background": "light"
     },
     "output_type": "display_data"
    }
   ],
   "source": [
    "from statsmodels.graphics.tsaplots import plot_pacf,plot_acf\n",
    "pacf=plot_pacf(df['Open'],lags=25)\n",
    "acf=plot_acf(df['Open'],lags=25)\n"
   ]
  },
  {
   "cell_type": "markdown",
   "metadata": {},
   "source": [
    "Split dataset intro train and test: testing : last 7 days"
   ]
  },
  {
   "cell_type": "code",
   "execution_count": 29,
   "metadata": {},
   "outputs": [],
   "source": [
    "train=X[:len(X)-7]\n",
    "test=X[len(X)-7:]"
   ]
  },
  {
   "cell_type": "code",
   "execution_count": 34,
   "metadata": {},
   "outputs": [
    {
     "name": "stderr",
     "output_type": "stream",
     "text": [
      "C:\\dell\\Anaconda\\lib\\site-packages\\statsmodels\\tsa\\ar_model.py:248: FutureWarning: The parameter names will change after 0.12 is released. Set old_names to False to use the new names now. Set old_names to True to use the old names. \n",
      "  warnings.warn(\n"
     ]
    }
   ],
   "source": [
    "model=AutoReg(train,lags=10).fit()"
   ]
  },
  {
   "cell_type": "code",
   "execution_count": 31,
   "metadata": {},
   "outputs": [
    {
     "name": "stdout",
     "output_type": "stream",
     "text": [
      "                            AutoReg Model Results                             \n",
      "==============================================================================\n",
      "Dep. Variable:                      y   No. Observations:                  244\n",
      "Model:                    AutoReg(10)   Log Likelihood                -148.851\n",
      "Method:               Conditional MLE   S.D. of innovations              0.457\n",
      "Date:                Wed, 09 Jun 2021   AIC                             -1.463\n",
      "Time:                        22:36:08   BIC                             -1.286\n",
      "Sample:                            10   HQIC                            -1.392\n",
      "                                  244                                         \n",
      "==============================================================================\n",
      "                 coef    std err          z      P>|z|      [0.025      0.975]\n",
      "------------------------------------------------------------------------------\n",
      "intercept      0.4611      0.242      1.905      0.057      -0.013       0.935\n",
      "y.L1           0.8468      0.065     12.953      0.000       0.719       0.975\n",
      "y.L2          -0.0644      0.086     -0.753      0.451      -0.232       0.103\n",
      "y.L3           0.1317      0.085      1.547      0.122      -0.035       0.298\n",
      "y.L4           0.0003      0.085      0.004      0.997      -0.166       0.167\n",
      "y.L5           0.1635      0.082      1.991      0.046       0.003       0.324\n",
      "y.L6          -0.1018      0.076     -1.348      0.178      -0.250       0.046\n",
      "y.L7          -0.0622      0.073     -0.854      0.393      -0.205       0.081\n",
      "y.L8           0.1088      0.070      1.547      0.122      -0.029       0.247\n",
      "y.L9          -0.0634      0.068     -0.939      0.348      -0.196       0.069\n",
      "y.L10         -0.0066      0.057     -0.116      0.908      -0.118       0.104\n",
      "                                    Roots                                     \n",
      "==============================================================================\n",
      "                   Real          Imaginary           Modulus         Frequency\n",
      "------------------------------------------------------------------------------\n",
      "AR.1            -0.8764           -0.9062j            1.2607           -0.3723\n",
      "AR.2            -0.8764           +0.9062j            1.2607            0.3723\n",
      "AR.3            -1.4661           -0.0000j            1.4661           -0.5000\n",
      "AR.4             0.1762           -1.2944j            1.3063           -0.2285\n",
      "AR.5             0.1762           +1.2944j            1.3063            0.2285\n",
      "AR.6             1.0431           -0.0000j            1.0431           -0.0000\n",
      "AR.7             1.3937           -0.0000j            1.3937           -0.0000\n",
      "AR.8             0.9861           -1.1746j            1.5337           -0.1388\n",
      "AR.9             0.9861           +1.1746j            1.5337            0.1388\n",
      "AR.10          -11.1899           -0.0000j           11.1899           -0.5000\n",
      "------------------------------------------------------------------------------\n"
     ]
    }
   ],
   "source": [
    "print(model.summary())"
   ]
  },
  {
   "cell_type": "markdown",
   "metadata": {},
   "source": [
    "Make predictions on test set and compare"
   ]
  },
  {
   "cell_type": "code",
   "execution_count": null,
   "metadata": {},
   "outputs": [],
   "source": [
    "pred=model.predict(start=len(train),end=len(X)-1,dynamic=False)"
   ]
  },
  {
   "cell_type": "code",
   "execution_count": 22,
   "metadata": {},
   "outputs": [
    {
     "name": "stdout",
     "output_type": "stream",
     "text": [
      "[8.60304156 8.67132458 8.72029005 8.7517317  8.77285192 8.81857054\n",
      " 8.86506812]\n"
     ]
    },
    {
     "data": {
      "image/png": "[encoded data removed]",
      "text/plain": [
       "<Figure size 432x288 with 1 Axes>"
      ]
     },
     "metadata": {
      "needs_background": "light"
     },
     "output_type": "display_data"
    }
   ],
   "source": [
    "from matplotlib import pyplot\n",
    "pyplot.plot(pred)\n",
    "pyplot.plot(test,color='red')\n",
    "print(pred)"
   ]
  },
  {
   "cell_type": "markdown",
   "metadata": {},
   "source": [
    "Calculation of error"
   ]
  },
  {
   "cell_type": "code",
   "execution_count": 32,
   "metadata": {},
   "outputs": [],
   "source": [
    " from math import sqrt\n",
    " from sklearn.metrics import mean_squared_error\n",
    " rmse=sqrt(mean_squared_error(test,pred))\n",
    "\n"
   ]
  },
  {
   "cell_type": "code",
   "execution_count": 33,
   "metadata": {},
   "outputs": [
    {
     "name": "stdout",
     "output_type": "stream",
     "text": [
      "0.4902175910957742\n"
     ]
    }
   ],
   "source": [
    "print(rmse)"
   ]
  },
  {
   "cell_type": "markdown",
   "metadata": {},
   "source": [
    "Making future Predictions \n"
   ]
  },
  {
   "cell_type": "code",
   "execution_count": 23,
   "metadata": {},
   "outputs": [
    {
     "name": "stdout",
     "output_type": "stream",
     "text": [
      "the future prediction for the next week\n",
      "[8.92309175 8.95711572 8.99120947 9.02368795 9.05004785 9.07805101\n",
      " 9.10703733]\n",
      "NUm. of predictions made:\t 7\n"
     ]
    }
   ],
   "source": [
    "pred_future=model.predict(start=len(X)+1,end=len(X)+7,dynamic=False)\n",
    "print(\"the future prediction for the next week\")\n",
    "print(pred_future)\n",
    "print(\"NUm. of predictions made:\\t\",len(pred_future))"
   ]
  },
  {
   "cell_type": "code",
   "execution_count": null,
   "metadata": {},
   "outputs": [],
   "source": []
  }
 ],
 "metadata": {
  "kernelspec": {
   "display_name": "Python 3",
   "language": "python",
   "name": "python3"
  },
  "language_info": {
   "codemirror_mode": {
    "name": "ipython",
    "version": 3
   },
   "file_extension": ".py",
   "mimetype": "text/x-python",
   "name": "python",
   "nbconvert_exporter": "python",
   "pygments_lexer": "ipython3",
   "version": "3.8.8"
  }
 },
 "nbformat": 4,
 "nbformat_minor": 4
}
