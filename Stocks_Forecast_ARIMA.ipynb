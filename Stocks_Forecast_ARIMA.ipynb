{
 "cells": [
  {
   "cell_type": "code",
   "execution_count": 1,
   "metadata": {},
   "outputs": [
    {
     "name": "stdout",
     "output_type": "stream",
     "text": [
      "Collecting pmdarima\n",
      "  Downloading pmdarima-1.8.2-cp38-cp38-win_amd64.whl (596 kB)\n",
      "Requirement already satisfied: Cython!=0.29.18,>=0.29 in c:\\dell\\anaconda\\lib\\site-packages (from pmdarima) (0.29.23)\n",
      "Requirement already satisfied: setuptools!=50.0.0,>=38.6.0 in c:\\dell\\anaconda\\lib\\site-packages (from pmdarima) (52.0.0.post20210125)\n",
      "Requirement already satisfied: urllib3 in c:\\users\\dell\\appdata\\roaming\\python\\python38\\site-packages (from pmdarima) (1.25.9)\n",
      "Requirement already satisfied: statsmodels!=0.12.0,>=0.11 in c:\\dell\\anaconda\\lib\\site-packages (from pmdarima) (0.12.2)\n",
      "Requirement already satisfied: pandas>=0.19 in c:\\dell\\anaconda\\lib\\site-packages (from pmdarima) (1.2.4)\n",
      "Collecting numpy~=1.19.0\n",
      "  Downloading numpy-1.19.5-cp38-cp38-win_amd64.whl (13.3 MB)\n",
      "Requirement already satisfied: scipy>=1.3.2 in c:\\dell\\anaconda\\lib\\site-packages (from pmdarima) (1.6.2)\n",
      "Requirement already satisfied: joblib>=0.11 in c:\\dell\\anaconda\\lib\\site-packages (from pmdarima) (1.0.1)\n",
      "Requirement already satisfied: scikit-learn>=0.22 in c:\\dell\\anaconda\\lib\\site-packages (from pmdarima) (0.24.1)\n",
      "Requirement already satisfied: python-dateutil>=2.7.3 in c:\\users\\dell\\appdata\\roaming\\python\\python38\\site-packages (from pandas>=0.19->pmdarima) (2.8.1)\n",
      "Requirement already satisfied: pytz>=2017.3 in c:\\dell\\anaconda\\lib\\site-packages (from pandas>=0.19->pmdarima) (2021.1)\n",
      "Requirement already satisfied: six>=1.5 in c:\\users\\dell\\appdata\\roaming\\python\\python38\\site-packages (from python-dateutil>=2.7.3->pandas>=0.19->pmdarima) (1.14.0)\n",
      "Requirement already satisfied: threadpoolctl>=2.0.0 in c:\\dell\\anaconda\\lib\\site-packages (from scikit-learn>=0.22->pmdarima) (2.1.0)\n",
      "Requirement already satisfied: patsy>=0.5 in c:\\dell\\anaconda\\lib\\site-packages (from statsmodels!=0.12.0,>=0.11->pmdarima) (0.5.1)\n",
      "Installing collected packages: numpy, pmdarima\n",
      "  Attempting uninstall: numpy\n",
      "    Found existing installation: numpy 1.20.1\n",
      "    Uninstalling numpy-1.20.1:\n",
      "      Successfully uninstalled numpy-1.20.1\n",
      "Note: you may need to restart the kernel to use updated packages.\n"
     ]
    },
    {
     "name": "stderr",
     "output_type": "stream",
     "text": [
      "ERROR: Could not install packages due to an OSError: [WinError 5] Access is denied: 'C:\\\\dell\\\\Anaconda\\\\Lib\\\\site-packages\\\\~umpy\\\\core\\\\_multiarray_tests.cp38-win_amd64.pyd'\n",
      "Consider using the `--user` option or check the permissions.\n",
      "\n"
     ]
    }
   ],
   "source": [
    "pip install pmdarima"
   ]
  },
  {
   "cell_type": "code",
   "execution_count": 2,
   "metadata": {},
   "outputs": [],
   "source": [
    "import pandas as pd\n",
    "import numpy as np"
   ]
  },
  {
   "cell_type": "code",
   "execution_count": 6,
   "metadata": {},
   "outputs": [
    {
     "name": "stdout",
     "output_type": "stream",
     "text": [
      "shpes of data (251, 4)\n"
     ]
    },
    {
     "data": {
      "text/html": [
       "<div>\n",
       "<style scoped>\n",
       "    .dataframe tbody tr th:only-of-type {\n",
       "        vertical-align: middle;\n",
       "    }\n",
       "\n",
       "    .dataframe tbody tr th {\n",
       "        vertical-align: top;\n",
       "    }\n",
       "\n",
       "    .dataframe thead th {\n",
       "        text-align: right;\n",
       "    }\n",
       "</style>\n",
       "<table border=\"1\" class=\"dataframe\">\n",
       "  <thead>\n",
       "    <tr style=\"text-align: right;\">\n",
       "      <th></th>\n",
       "      <th>Open</th>\n",
       "      <th>High</th>\n",
       "      <th>Low</th>\n",
       "      <th>Close</th>\n",
       "    </tr>\n",
       "    <tr>\n",
       "      <th>Date</th>\n",
       "      <th></th>\n",
       "      <th></th>\n",
       "      <th></th>\n",
       "      <th></th>\n",
       "    </tr>\n",
       "  </thead>\n",
       "  <tbody>\n",
       "    <tr>\n",
       "      <th>2020-08-06</th>\n",
       "      <td>11.55</td>\n",
       "      <td>12.60</td>\n",
       "      <td>11.20</td>\n",
       "      <td>12.00</td>\n",
       "    </tr>\n",
       "    <tr>\n",
       "      <th>2020-09-06</th>\n",
       "      <td>12.35</td>\n",
       "      <td>12.35</td>\n",
       "      <td>9.00</td>\n",
       "      <td>10.05</td>\n",
       "    </tr>\n",
       "    <tr>\n",
       "      <th>2020-10-06</th>\n",
       "      <td>9.70</td>\n",
       "      <td>11.00</td>\n",
       "      <td>9.10</td>\n",
       "      <td>10.85</td>\n",
       "    </tr>\n",
       "    <tr>\n",
       "      <th>2020-11-06</th>\n",
       "      <td>11.10</td>\n",
       "      <td>11.45</td>\n",
       "      <td>9.15</td>\n",
       "      <td>9.40</td>\n",
       "    </tr>\n",
       "    <tr>\n",
       "      <th>2020-12-06</th>\n",
       "      <td>8.50</td>\n",
       "      <td>10.30</td>\n",
       "      <td>8.00</td>\n",
       "      <td>10.15</td>\n",
       "    </tr>\n",
       "  </tbody>\n",
       "</table>\n",
       "</div>"
      ],
      "text/plain": [
       "             Open   High    Low  Close\n",
       "Date                                  \n",
       "2020-08-06  11.55  12.60  11.20  12.00\n",
       "2020-09-06  12.35  12.35   9.00  10.05\n",
       "2020-10-06   9.70  11.00   9.10  10.85\n",
       "2020-11-06  11.10  11.45   9.15   9.40\n",
       "2020-12-06   8.50  10.30   8.00  10.15"
      ]
     },
     "execution_count": 6,
     "metadata": {},
     "output_type": "execute_result"
    }
   ],
   "source": [
    "df=pd.read_csv('IDEA.csv',index_col=0,usecols=[0,1,2,3,4],parse_dates=True)\n",
    "df=df.dropna()\n",
    "print('shpes of data',df.shape)\n",
    "df.head()"
   ]
  },
  {
   "cell_type": "markdown",
   "metadata": {},
   "source": [
    "ploting data"
   ]
  },
  {
   "cell_type": "code",
   "execution_count": 9,
   "metadata": {},
   "outputs": [
    {
     "data": {
      "text/plain": [
       "<AxesSubplot:xlabel='Date'>"
      ]
     },
     "execution_count": 9,
     "metadata": {},
     "output_type": "execute_result"
    },
    {
     "data": {
      "image/png": "[encoded data removed]",
      "text/plain": [
       "<Figure size 864x360 with 1 Axes>"
      ]
     },
     "metadata": {
      "needs_background": "light"
     },
     "output_type": "display_data"
    }
   ],
   "source": [
    "df['High'].plot(figsize=(12,5))"
   ]
  },
  {
   "cell_type": "markdown",
   "metadata": {},
   "source": [
    "check stationarity"
   ]
  },
  {
   "cell_type": "code",
   "execution_count": 11,
   "metadata": {},
   "outputs": [],
   "source": [
    "from statsmodels.tsa.stattools import adfuller\n",
    "\n",
    "def ad_test(dataset):\n",
    "    dftest = adfuller(dataset,autolag = 'AIC')\n",
    "    print(\"1. ADF : \",dftest[0]);\n",
    "    print(\"2. P-value : \",dftest[1]);\n",
    "    print(\"3. Num. of lags : \",dftest[2]);\n",
    "    print(\"4. Num. of observation used for ADF regression and critical values calculation :\",dftest[3])\n",
    "    print(\"5. critical values: \")\n",
    "    for key,val in dftest[4].items():\n",
    "        print(\"\\t\",key, \": \",val)"
   ]
  },
  {
   "cell_type": "code",
   "execution_count": 12,
   "metadata": {},
   "outputs": [
    {
     "name": "stdout",
     "output_type": "stream",
     "text": [
      "1. ADF :  -2.8333257878475337\n",
      "2. P-value :  0.053668837152057954\n",
      "3. Num. of lags :  16\n",
      "4. Num. of observation used for ADF regression and critical values calculation : 234\n",
      "5. critical values: \n",
      "\t 1% :  -3.4586084859607156\n",
      "\t 5% :  -2.873972159235721\n",
      "\t 10% :  -2.57339565928848\n"
     ]
    }
   ],
   "source": [
    "ad_test(df['High'])"
   ]
  },
  {
   "cell_type": "markdown",
   "metadata": {},
   "source": [
    "Figure out order of ARIMA model"
   ]
  },
  {
   "cell_type": "code",
   "execution_count": 14,
   "metadata": {},
   "outputs": [],
   "source": [
    "from pmdarima import auto_arima\n",
    "import warnings\n",
    "warnings.filterwarnings(\"ignore\")"
   ]
  },
  {
   "cell_type": "code",
   "execution_count": 15,
   "metadata": {},
   "outputs": [
    {
     "data": {
      "text/html": [
       "<table class=\"simpletable\">\n",
       "<caption>SARIMAX Results</caption>\n",
       "<tr>\n",
       "  <th>Dep. Variable:</th>           <td>y</td>        <th>  No. Observations:  </th>    <td>251</td>  \n",
       "</tr>\n",
       "<tr>\n",
       "  <th>Model:</th>           <td>SARIMAX(1, 0, 0)</td> <th>  Log Likelihood     </th> <td>-141.817</td>\n",
       "</tr>\n",
       "<tr>\n",
       "  <th>Date:</th>            <td>Wed, 09 Jun 2021</td> <th>  AIC                </th>  <td>289.635</td>\n",
       "</tr>\n",
       "<tr>\n",
       "  <th>Time:</th>                <td>23:17:50</td>     <th>  BIC                </th>  <td>300.211</td>\n",
       "</tr>\n",
       "<tr>\n",
       "  <th>Sample:</th>                  <td>0</td>        <th>  HQIC               </th>  <td>293.891</td>\n",
       "</tr>\n",
       "<tr>\n",
       "  <th></th>                      <td> - 251</td>      <th>                     </th>     <td> </td>   \n",
       "</tr>\n",
       "<tr>\n",
       "  <th>Covariance Type:</th>        <td>opg</td>       <th>                     </th>     <td> </td>   \n",
       "</tr>\n",
       "</table>\n",
       "<table class=\"simpletable\">\n",
       "<tr>\n",
       "      <td></td>         <th>coef</th>     <th>std err</th>      <th>z</th>      <th>P>|z|</th>  <th>[0.025</th>    <th>0.975]</th>  \n",
       "</tr>\n",
       "<tr>\n",
       "  <th>intercept</th> <td>    0.4678</td> <td>    0.225</td> <td>    2.082</td> <td> 0.037</td> <td>    0.027</td> <td>    0.908</td>\n",
       "</tr>\n",
       "<tr>\n",
       "  <th>ar.L1</th>     <td>    0.9548</td> <td>    0.021</td> <td>   46.268</td> <td> 0.000</td> <td>    0.914</td> <td>    0.995</td>\n",
       "</tr>\n",
       "<tr>\n",
       "  <th>sigma2</th>    <td>    0.1795</td> <td>    0.009</td> <td>   20.690</td> <td> 0.000</td> <td>    0.163</td> <td>    0.197</td>\n",
       "</tr>\n",
       "</table>\n",
       "<table class=\"simpletable\">\n",
       "<tr>\n",
       "  <th>Ljung-Box (L1) (Q):</th>     <td>0.32</td> <th>  Jarque-Bera (JB):  </th> <td>594.16</td>\n",
       "</tr>\n",
       "<tr>\n",
       "  <th>Prob(Q):</th>                <td>0.57</td> <th>  Prob(JB):          </th>  <td>0.00</td> \n",
       "</tr>\n",
       "<tr>\n",
       "  <th>Heteroskedasticity (H):</th> <td>0.29</td> <th>  Skew:              </th>  <td>1.39</td> \n",
       "</tr>\n",
       "<tr>\n",
       "  <th>Prob(H) (two-sided):</th>    <td>0.00</td> <th>  Kurtosis:          </th>  <td>10.01</td>\n",
       "</tr>\n",
       "</table><br/><br/>Warnings:<br/>[1] Covariance matrix calculated using the outer product of gradients (complex-step)."
      ],
      "text/plain": [
       "<class 'statsmodels.iolib.summary.Summary'>\n",
       "\"\"\"\n",
       "                               SARIMAX Results                                \n",
       "==============================================================================\n",
       "Dep. Variable:                      y   No. Observations:                  251\n",
       "Model:               SARIMAX(1, 0, 0)   Log Likelihood                -141.817\n",
       "Date:                Wed, 09 Jun 2021   AIC                            289.635\n",
       "Time:                        23:17:50   BIC                            300.211\n",
       "Sample:                             0   HQIC                           293.891\n",
       "                                - 251                                         \n",
       "Covariance Type:                  opg                                         \n",
       "==============================================================================\n",
       "                 coef    std err          z      P>|z|      [0.025      0.975]\n",
       "------------------------------------------------------------------------------\n",
       "intercept      0.4678      0.225      2.082      0.037       0.027       0.908\n",
       "ar.L1          0.9548      0.021     46.268      0.000       0.914       0.995\n",
       "sigma2         0.1795      0.009     20.690      0.000       0.163       0.197\n",
       "===================================================================================\n",
       "Ljung-Box (L1) (Q):                   0.32   Jarque-Bera (JB):               594.16\n",
       "Prob(Q):                              0.57   Prob(JB):                         0.00\n",
       "Heteroskedasticity (H):               0.29   Skew:                             1.39\n",
       "Prob(H) (two-sided):                  0.00   Kurtosis:                        10.01\n",
       "===================================================================================\n",
       "\n",
       "Warnings:\n",
       "[1] Covariance matrix calculated using the outer product of gradients (complex-step).\n",
       "\"\"\""
      ]
     },
     "execution_count": 15,
     "metadata": {},
     "output_type": "execute_result"
    }
   ],
   "source": [
    "stepwise_fit = auto_arima(df['High'],teace=True,suppress_warnings=True)\n",
    "stepwise_fit.summary()"
   ]
  },
  {
   "cell_type": "code",
   "execution_count": 16,
   "metadata": {},
   "outputs": [],
   "source": [
    "from statsmodels.tsa.arima_model import ARIMA"
   ]
  },
  {
   "cell_type": "markdown",
   "metadata": {},
   "source": [
    "split Data into training and testing "
   ]
  },
  {
   "cell_type": "code",
   "execution_count": 17,
   "metadata": {},
   "outputs": [
    {
     "name": "stdout",
     "output_type": "stream",
     "text": [
      "(251, 4)\n",
      "(221, 4) (30, 4)\n"
     ]
    }
   ],
   "source": [
    "print(df.shape)\n",
    "train=df.iloc[:-30]\n",
    "test=df.iloc[-30:]\n",
    "print(train.shape,test.shape)"
   ]
  },
  {
   "cell_type": "markdown",
   "metadata": {},
   "source": [
    "Train the model"
   ]
  },
  {
   "cell_type": "code",
   "execution_count": 18,
   "metadata": {},
   "outputs": [
    {
     "data": {
      "text/html": [
       "<table class=\"simpletable\">\n",
       "<caption>ARMA Model Results</caption>\n",
       "<tr>\n",
       "  <th>Dep. Variable:</th>       <td>High</td>       <th>  No. Observations:  </th>    <td>221</td>  \n",
       "</tr>\n",
       "<tr>\n",
       "  <th>Model:</th>            <td>ARMA(1, 5)</td>    <th>  Log Likelihood     </th> <td>-128.846</td>\n",
       "</tr>\n",
       "<tr>\n",
       "  <th>Method:</th>             <td>css-mle</td>     <th>  S.D. of innovations</th>   <td>0.431</td> \n",
       "</tr>\n",
       "<tr>\n",
       "  <th>Date:</th>          <td>Wed, 09 Jun 2021</td> <th>  AIC                </th>  <td>273.693</td>\n",
       "</tr>\n",
       "<tr>\n",
       "  <th>Time:</th>              <td>23:24:09</td>     <th>  BIC                </th>  <td>300.878</td>\n",
       "</tr>\n",
       "<tr>\n",
       "  <th>Sample:</th>                <td>0</td>        <th>  HQIC               </th>  <td>284.670</td>\n",
       "</tr>\n",
       "<tr>\n",
       "  <th></th>                       <td> </td>        <th>                     </th>     <td> </td>   \n",
       "</tr>\n",
       "</table>\n",
       "<table class=\"simpletable\">\n",
       "<tr>\n",
       "       <td></td>         <th>coef</th>     <th>std err</th>      <th>z</th>      <th>P>|z|</th>  <th>[0.025</th>    <th>0.975]</th>  \n",
       "</tr>\n",
       "<tr>\n",
       "  <th>const</th>      <td>   10.3933</td> <td>    0.563</td> <td>   18.453</td> <td> 0.000</td> <td>    9.289</td> <td>   11.497</td>\n",
       "</tr>\n",
       "<tr>\n",
       "  <th>ar.L1.High</th> <td>    0.9462</td> <td>    0.028</td> <td>   34.223</td> <td> 0.000</td> <td>    0.892</td> <td>    1.000</td>\n",
       "</tr>\n",
       "<tr>\n",
       "  <th>ma.L1.High</th> <td>    0.0012</td> <td>    0.073</td> <td>    0.017</td> <td> 0.987</td> <td>   -0.142</td> <td>    0.145</td>\n",
       "</tr>\n",
       "<tr>\n",
       "  <th>ma.L2.High</th> <td>    0.0447</td> <td>    0.073</td> <td>    0.609</td> <td> 0.543</td> <td>   -0.099</td> <td>    0.189</td>\n",
       "</tr>\n",
       "<tr>\n",
       "  <th>ma.L3.High</th> <td>   -0.1614</td> <td>    0.077</td> <td>   -2.095</td> <td> 0.036</td> <td>   -0.312</td> <td>   -0.010</td>\n",
       "</tr>\n",
       "<tr>\n",
       "  <th>ma.L4.High</th> <td>    0.0703</td> <td>    0.062</td> <td>    1.128</td> <td> 0.259</td> <td>   -0.052</td> <td>    0.192</td>\n",
       "</tr>\n",
       "<tr>\n",
       "  <th>ma.L5.High</th> <td>    0.1723</td> <td>    0.073</td> <td>    2.375</td> <td> 0.018</td> <td>    0.030</td> <td>    0.315</td>\n",
       "</tr>\n",
       "</table>\n",
       "<table class=\"simpletable\">\n",
       "<caption>Roots</caption>\n",
       "<tr>\n",
       "    <td></td>   <th>            Real</th>  <th>         Imaginary</th> <th>         Modulus</th>  <th>        Frequency</th>\n",
       "</tr>\n",
       "<tr>\n",
       "  <th>AR.1</th> <td>           1.0568</td> <td>          +0.0000j</td> <td>           1.0568</td> <td>           0.0000</td>\n",
       "</tr>\n",
       "<tr>\n",
       "  <th>MA.1</th> <td>           1.1653</td> <td>          -0.7857j</td> <td>           1.4054</td> <td>          -0.0944</td>\n",
       "</tr>\n",
       "<tr>\n",
       "  <th>MA.2</th> <td>           1.1653</td> <td>          +0.7857j</td> <td>           1.4054</td> <td>           0.0944</td>\n",
       "</tr>\n",
       "<tr>\n",
       "  <th>MA.3</th> <td>          -0.5123</td> <td>          -1.2049j</td> <td>           1.3093</td> <td>          -0.3140</td>\n",
       "</tr>\n",
       "<tr>\n",
       "  <th>MA.4</th> <td>          -0.5123</td> <td>          +1.2049j</td> <td>           1.3093</td> <td>           0.3140</td>\n",
       "</tr>\n",
       "<tr>\n",
       "  <th>MA.5</th> <td>          -1.7138</td> <td>          -0.0000j</td> <td>           1.7138</td> <td>          -0.5000</td>\n",
       "</tr>\n",
       "</table>"
      ],
      "text/plain": [
       "<class 'statsmodels.iolib.summary.Summary'>\n",
       "\"\"\"\n",
       "                              ARMA Model Results                              \n",
       "==============================================================================\n",
       "Dep. Variable:                   High   No. Observations:                  221\n",
       "Model:                     ARMA(1, 5)   Log Likelihood                -128.846\n",
       "Method:                       css-mle   S.D. of innovations              0.431\n",
       "Date:                Wed, 09 Jun 2021   AIC                            273.693\n",
       "Time:                        23:24:09   BIC                            300.878\n",
       "Sample:                             0   HQIC                           284.670\n",
       "                                                                              \n",
       "==============================================================================\n",
       "                 coef    std err          z      P>|z|      [0.025      0.975]\n",
       "------------------------------------------------------------------------------\n",
       "const         10.3933      0.563     18.453      0.000       9.289      11.497\n",
       "ar.L1.High     0.9462      0.028     34.223      0.000       0.892       1.000\n",
       "ma.L1.High     0.0012      0.073      0.017      0.987      -0.142       0.145\n",
       "ma.L2.High     0.0447      0.073      0.609      0.543      -0.099       0.189\n",
       "ma.L3.High    -0.1614      0.077     -2.095      0.036      -0.312      -0.010\n",
       "ma.L4.High     0.0703      0.062      1.128      0.259      -0.052       0.192\n",
       "ma.L5.High     0.1723      0.073      2.375      0.018       0.030       0.315\n",
       "                                    Roots                                    \n",
       "=============================================================================\n",
       "                  Real          Imaginary           Modulus         Frequency\n",
       "-----------------------------------------------------------------------------\n",
       "AR.1            1.0568           +0.0000j            1.0568            0.0000\n",
       "MA.1            1.1653           -0.7857j            1.4054           -0.0944\n",
       "MA.2            1.1653           +0.7857j            1.4054            0.0944\n",
       "MA.3           -0.5123           -1.2049j            1.3093           -0.3140\n",
       "MA.4           -0.5123           +1.2049j            1.3093            0.3140\n",
       "MA.5           -1.7138           -0.0000j            1.7138           -0.5000\n",
       "-----------------------------------------------------------------------------\n",
       "\"\"\""
      ]
     },
     "execution_count": 18,
     "metadata": {},
     "output_type": "execute_result"
    }
   ],
   "source": [
    "model=ARIMA(train['High'],order=(1,0,5))\n",
    "model=model.fit()\n",
    "model.summary()"
   ]
  },
  {
   "cell_type": "markdown",
   "metadata": {},
   "source": [
    "Make predictions on test set"
   ]
  },
  {
   "cell_type": "code",
   "execution_count": 21,
   "metadata": {},
   "outputs": [
    {
     "name": "stdout",
     "output_type": "stream",
     "text": [
      "Date\n",
      "2021-04-26     8.572522\n",
      "2021-04-27     8.601329\n",
      "2021-04-28     8.742833\n",
      "2021-04-29     8.806677\n",
      "2021-04-30     8.850184\n",
      "2021-03-05     8.933130\n",
      "2021-04-05     9.011617\n",
      "2021-05-05     9.085885\n",
      "2021-06-05     9.156162\n",
      "2021-07-05     9.222660\n",
      "2021-10-05     9.285585\n",
      "2021-11-05     9.345126\n",
      "2021-12-05     9.401468\n",
      "2021-05-14     9.454781\n",
      "2021-05-17     9.505228\n",
      "2021-05-18     9.552963\n",
      "2021-05-19     9.598133\n",
      "2021-05-20     9.640875\n",
      "2021-05-21     9.681319\n",
      "2021-05-24     9.719589\n",
      "2021-05-25     9.755802\n",
      "2021-05-26     9.790068\n",
      "2021-05-27     9.822493\n",
      "2021-05-28     9.853175\n",
      "2021-05-31     9.882207\n",
      "2021-01-06     9.909679\n",
      "2021-02-06     9.935674\n",
      "2021-03-06     9.960272\n",
      "2021-04-06     9.983548\n",
      "2021-07-06    10.005572\n",
      "dtype: float64\n"
     ]
    }
   ],
   "source": [
    "start=len(train)\n",
    "end=len(train)+len(test)-1\n",
    "pred=model.predict(start=start,end=end,typ='levels')\n",
    "# print(pred)\n",
    "pred.index=df.index[start:end+1]\n",
    "print(pred)"
   ]
  },
  {
   "cell_type": "code",
   "execution_count": 22,
   "metadata": {},
   "outputs": [
    {
     "data": {
      "text/plain": [
       "<AxesSubplot:xlabel='Date'>"
      ]
     },
     "execution_count": 22,
     "metadata": {},
     "output_type": "execute_result"
    },
    {
     "data": {
      "image/png": "[encoded data removed]",
      "text/plain": [
       "<Figure size 432x288 with 1 Axes>"
      ]
     },
     "metadata": {
      "needs_background": "light"
     },
     "output_type": "display_data"
    }
   ],
   "source": [
    "pred.plot(legend=True)\n",
    "test['High'].plot(legend=True)"
   ]
  },
  {
   "cell_type": "code",
   "execution_count": 23,
   "metadata": {},
   "outputs": [
    {
     "data": {
      "text/plain": [
       "8.791666666666664"
      ]
     },
     "execution_count": 23,
     "metadata": {},
     "output_type": "execute_result"
    }
   ],
   "source": [
    "test['High'].mean()"
   ]
  },
  {
   "cell_type": "code",
   "execution_count": 25,
   "metadata": {},
   "outputs": [
    {
     "name": "stdout",
     "output_type": "stream",
     "text": [
      "0.7837775198043097\n"
     ]
    }
   ],
   "source": [
    " from math import sqrt\n",
    " from sklearn.metrics import mean_squared_error\n",
    " rmse=sqrt(mean_squared_error(test['High'],pred))\n",
    " print(rmse)"
   ]
  },
  {
   "cell_type": "code",
   "execution_count": 26,
   "metadata": {},
   "outputs": [
    {
     "data": {
      "text/html": [
       "<div>\n",
       "<style scoped>\n",
       "    .dataframe tbody tr th:only-of-type {\n",
       "        vertical-align: middle;\n",
       "    }\n",
       "\n",
       "    .dataframe tbody tr th {\n",
       "        vertical-align: top;\n",
       "    }\n",
       "\n",
       "    .dataframe thead th {\n",
       "        text-align: right;\n",
       "    }\n",
       "</style>\n",
       "<table border=\"1\" class=\"dataframe\">\n",
       "  <thead>\n",
       "    <tr style=\"text-align: right;\">\n",
       "      <th></th>\n",
       "      <th>Open</th>\n",
       "      <th>High</th>\n",
       "      <th>Low</th>\n",
       "      <th>Close</th>\n",
       "    </tr>\n",
       "    <tr>\n",
       "      <th>Date</th>\n",
       "      <th></th>\n",
       "      <th></th>\n",
       "      <th></th>\n",
       "      <th></th>\n",
       "    </tr>\n",
       "  </thead>\n",
       "  <tbody>\n",
       "    <tr>\n",
       "      <th>2021-01-06</th>\n",
       "      <td>8.70</td>\n",
       "      <td>8.75</td>\n",
       "      <td>8.45</td>\n",
       "      <td>8.50</td>\n",
       "    </tr>\n",
       "    <tr>\n",
       "      <th>2021-02-06</th>\n",
       "      <td>8.55</td>\n",
       "      <td>8.85</td>\n",
       "      <td>8.45</td>\n",
       "      <td>8.80</td>\n",
       "    </tr>\n",
       "    <tr>\n",
       "      <th>2021-03-06</th>\n",
       "      <td>8.85</td>\n",
       "      <td>9.45</td>\n",
       "      <td>8.80</td>\n",
       "      <td>9.35</td>\n",
       "    </tr>\n",
       "    <tr>\n",
       "      <th>2021-04-06</th>\n",
       "      <td>9.40</td>\n",
       "      <td>9.85</td>\n",
       "      <td>9.35</td>\n",
       "      <td>9.75</td>\n",
       "    </tr>\n",
       "    <tr>\n",
       "      <th>2021-07-06</th>\n",
       "      <td>10.00</td>\n",
       "      <td>10.25</td>\n",
       "      <td>9.95</td>\n",
       "      <td>10.10</td>\n",
       "    </tr>\n",
       "  </tbody>\n",
       "</table>\n",
       "</div>"
      ],
      "text/plain": [
       "             Open   High   Low  Close\n",
       "Date                                 \n",
       "2021-01-06   8.70   8.75  8.45   8.50\n",
       "2021-02-06   8.55   8.85  8.45   8.80\n",
       "2021-03-06   8.85   9.45  8.80   9.35\n",
       "2021-04-06   9.40   9.85  9.35   9.75\n",
       "2021-07-06  10.00  10.25  9.95  10.10"
      ]
     },
     "execution_count": 26,
     "metadata": {},
     "output_type": "execute_result"
    }
   ],
   "source": [
    "model2=ARIMA(df['High'],order=(1,0,5))\n",
    "model2=model2.fit()\n",
    "df.tail()"
   ]
  },
  {
   "cell_type": "markdown",
   "metadata": {},
   "source": [
    "for future prediction"
   ]
  },
  {
   "cell_type": "code",
   "execution_count": 53,
   "metadata": {},
   "outputs": [
    {
     "name": "stdout",
     "output_type": "stream",
     "text": [
      "2021-06-07    10.182284\n",
      "2021-06-08    10.208230\n",
      "2021-06-09    10.243083\n",
      "2021-06-10    10.327703\n",
      "2021-06-11    10.400077\n",
      "2021-06-12    10.397989\n",
      "2021-06-13    10.396006\n",
      "2021-06-14    10.394122\n",
      "2021-06-15    10.392334\n",
      "2021-06-16    10.390635\n",
      "2021-06-17    10.389021\n",
      "2021-06-18    10.387489\n",
      "2021-06-19    10.386034\n",
      "2021-06-20    10.384651\n",
      "2021-06-21    10.383339\n",
      "2021-06-22    10.382092\n",
      "2021-06-23    10.380908\n",
      "2021-06-24    10.379784\n",
      "2021-06-25    10.378716\n",
      "2021-06-26    10.377701\n",
      "2021-06-27    10.376738\n",
      "2021-06-28    10.375823\n",
      "2021-06-29    10.374954\n",
      "2021-06-30    10.374129\n",
      "2021-07-01    10.373345\n",
      "2021-07-02    10.372601\n",
      "2021-07-03    10.371894\n",
      "2021-07-04    10.371223\n",
      "2021-07-05    10.370585\n",
      "2021-07-06    10.369979\n",
      "2021-07-07    10.369404\n",
      "Freq: D, Name: ARIMA predictions, dtype: float64\n"
     ]
    }
   ],
   "source": [
    "index_future_dates=pd.date_range(start='2021-06-07',end='2021-07-07')\n",
    "pred=model2.predict(start=len(df),end=len(df)+30,typ='levels').rename('ARIMA predictions')\n",
    "pred.index=index_future_dates\n",
    "print(pred)"
   ]
  },
  {
   "cell_type": "code",
   "execution_count": 54,
   "metadata": {},
   "outputs": [
    {
     "data": {
      "text/plain": [
       "<AxesSubplot:>"
      ]
     },
     "execution_count": 54,
     "metadata": {},
     "output_type": "execute_result"
    },
    {
     "data": {
      "image/png": "[encoded data removed]",
      "text/plain": [
       "<Figure size 864x360 with 1 Axes>"
      ]
     },
     "metadata": {
      "needs_background": "light"
     },
     "output_type": "display_data"
    }
   ],
   "source": [
    "pred.plot(figsize=(12,5),legend=True)"
   ]
  },
  {
   "cell_type": "code",
   "execution_count": null,
   "metadata": {},
   "outputs": [],
   "source": []
  }
 ],
 "metadata": {
  "kernelspec": {
   "display_name": "Python 3",
   "language": "python",
   "name": "python3"
  },
  "language_info": {
   "codemirror_mode": {
    "name": "ipython",
    "version": 3
   },
   "file_extension": ".py",
   "mimetype": "text/x-python",
   "name": "python",
   "nbconvert_exporter": "python",
   "pygments_lexer": "ipython3",
   "version": "3.8.8"
  }
 },
 "nbformat": 4,
 "nbformat_minor": 4
}
